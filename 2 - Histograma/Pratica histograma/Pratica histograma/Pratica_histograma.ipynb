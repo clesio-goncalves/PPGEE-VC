{
 "cells": [
  {
   "cell_type": "markdown",
   "metadata": {},
   "source": [
    "### Atributos de Textura de 1$^a$ ordem\n",
    "\n",
    "- Mean: The average value of the pixels within the region of interest\n",
    "- Variance: Measure of how much variation or dispersion exists from the average (mean value)\n",
    "- Skewness: Measures the asymmetry of the histogram of pixel intensities\n",
    "- Kurtosis: Indicates how tall and sharp the central peak is relative to the normal distribution curve\n",
    "- Entropy: Refer to the number of different pixel intensities. Entropy is a measure of disorder\n",
    "- Energy: Refer to the uniformity of an image"
   ]
  },
  {
   "cell_type": "code",
   "execution_count": null,
   "metadata": {},
   "outputs": [],
   "source": [
    "import numpy as np\n",
    "from skimage.io import imread\n",
    "from skimage.exposure import histogram\n",
    "from scipy.stats import skew, kurtosis, entropy\n",
    "import matplotlib.pyplot as plt\n",
    "%matplotlib inline"
   ]
  },
  {
   "cell_type": "markdown",
   "metadata": {},
   "source": [
    "### Calculando os features de 1$^a$ ordem"
   ]
  },
  {
   "cell_type": "code",
   "execution_count": null,
   "metadata": {},
   "outputs": [],
   "source": [
    "def histogram_features(img, hist):    \n",
    "    media_im = img.mean()\n",
    "    media_hist = hist.mean()\n",
    "    variancia = hist.var()\n",
    "    skewness = skew(hist)\n",
    "    kurt = kurtosis(hist, fisher=False)\n",
    "    ent = entropy(hist)\n",
    "    \n",
    "    hist = hist/(img.shape[0]*img.shape[1])#Normalizando o histograma para calcular energia\n",
    "    energy = np.sum(hist**2)\n",
    "    \n",
    "    return [media_im,media_hist,variancia,skewness,kurt,energy,ent]"
   ]
  },
  {
   "cell_type": "markdown",
   "metadata": {},
   "source": [
    "### Lendo as imagens"
   ]
  },
  {
   "cell_type": "code",
   "execution_count": null,
   "metadata": {},
   "outputs": [],
   "source": [
    "im_claro = imread('picos_claro.jpg')\n",
    "im_escuro = imread('picos_escuro.jpg')\n",
    "im_medio = imread('picos_medio.jpg')"
   ]
  },
  {
   "cell_type": "markdown",
   "metadata": {},
   "source": [
    "### Calculando o histograma"
   ]
  },
  {
   "cell_type": "code",
   "execution_count": null,
   "metadata": {},
   "outputs": [],
   "source": [
    "hist_claro = histogram(im_claro, source_range='dtype')[0]\n",
    "hist_escuro = histogram(im_escuro, source_range='dtype')[0]\n",
    "hist_medio = histogram(im_medio, source_range='dtype')[0]"
   ]
  },
  {
   "cell_type": "markdown",
   "metadata": {},
   "source": [
    "### Calculando os features"
   ]
  },
  {
   "cell_type": "code",
   "execution_count": null,
   "metadata": {},
   "outputs": [],
   "source": [
    "features_claro = histogram_features(im_claro, hist_claro)\n",
    "features_escuro = histogram_features(im_escuro, hist_escuro)\n",
    "features_medio = histogram_features(im_medio, hist_medio)"
   ]
  },
  {
   "cell_type": "markdown",
   "metadata": {},
   "source": [
    "### Plotando os histogramas e valores obtidos"
   ]
  },
  {
   "cell_type": "code",
   "execution_count": null,
   "metadata": {},
   "outputs": [],
   "source": [
    "fig,ax = plt.subplots(1,3,figsize=(14,3))\n",
    "ax[0].set_title( ('Media_im = %.2f \\n Media_his = %.2f \\n Var = %.2f \\n Skew = %.2f \\n' \n",
    "                  'Kurt = %.2f \\n Ener = %.2f \\n Entropy = %.2f')\n",
    "                  %(features_claro[0], features_claro[1], features_claro[2], features_claro[3], \n",
    "                    features_claro[4], features_claro[5], features_claro[6]))\n",
    "ax[0].plot(hist_claro)\n",
    "\n",
    "ax[1].set_title( ('Media_im = %.2f \\n Media_his = %.2f \\n Var = %.2f \\n Skew = %.2f \\n' \n",
    "                  'Kurt = %.2f \\n Ener = %.2f \\n Entropy = %.2f')\n",
    "                  %(features_escuro[0], features_escuro[1], features_escuro[2], features_escuro[3], \n",
    "                    features_escuro[4], features_escuro[5], features_escuro[6]))\n",
    "ax[1].plot(hist_escuro)\n",
    "\n",
    "ax[2].set_title( ('Media_im = %.2f \\n Media_his = %.2f \\n Var = %.2f \\n Skew = %.2f \\n' \n",
    "                  'Kurt = %.2f \\n Ener = %.2f \\n Entropy = %.2f')\n",
    "                  %(features_medio[0], features_medio[1], features_medio[2], features_medio[3], \n",
    "                    features_medio[4], features_medio[5], features_medio[6]))\n",
    "ax[2].plot(hist_medio)\n",
    "\n",
    "plt.show()"
   ]
  },
  {
   "cell_type": "markdown",
   "metadata": {},
   "source": [
    "# Prática Atributos de Textura de 1$^a$ ordem"
   ]
  },
  {
   "cell_type": "code",
   "execution_count": null,
   "metadata": {},
   "outputs": [],
   "source": [
    "import glob\n",
    "import numpy as np\n",
    "import skimage.io as io\n",
    "from skimage.color import rgb2gray\n",
    "from skimage.exposure import histogram\n",
    "import matplotlib.pyplot as plt\n",
    "from scipy.stats import skew, kurtosis, entropy"
   ]
  },
  {
   "cell_type": "code",
   "execution_count": null,
   "metadata": {},
   "outputs": [],
   "source": [
    "def histogram_features(img, hist):    \n",
    "    media_im = img.mean()\n",
    "    media_hist = hist.mean()\n",
    "    variancia = hist.var()\n",
    "    skewness = skew(hist)\n",
    "    kurt = kurtosis(hist, fisher=False)\n",
    "    ent = entropy(hist)\n",
    "    \n",
    "    hist = hist/(img.shape[0]*img.shape[1])#Normalizando o histograma para calcular energia\n",
    "    energy = np.sum(hist**2)\n",
    "    \n",
    "    return [media_im,media_hist,variancia,skewness,kurt,energy,ent]\n",
    "\n",
    "def pre_processing(img):\n",
    "    return rgb2gray(img)\n",
    "    #return img[:,:,2]"
   ]
  },
  {
   "cell_type": "markdown",
   "metadata": {},
   "source": [
    "### Pegando endereço das pastas e nome das imagens"
   ]
  },
  {
   "cell_type": "code",
   "execution_count": null,
   "metadata": {},
   "outputs": [],
   "source": [
    "tomate = 'frutas/tomate/'\n",
    "limao = 'frutas/limao/'\n",
    "melancia = 'frutas/melancia/'\n",
    "tangerina = 'frutas/tangerina/'\n",
    "\n",
    "im_tomate = glob.glob(tomate + '*.jpg')\n",
    "im_limao = glob.glob(limao + '*.jpg')\n",
    "im_melancia = glob.glob(melancia + '*.jpg')\n",
    "im_tangerina = glob.glob(tangerina + '*.jpg')"
   ]
  },
  {
   "cell_type": "markdown",
   "metadata": {},
   "source": [
    "### Lendo as imagens e extraíndo as informações"
   ]
  },
  {
   "cell_type": "code",
   "execution_count": null,
   "metadata": {},
   "outputs": [],
   "source": [
    "features_tomate = []\n",
    "for name in im_tomate:\n",
    "    im = io.imread(name)\n",
    "    cinza = pre_processing(im)\n",
    "    hist = histogram(cinza, source_range='dtype')[0]\n",
    "    features = histogram_features(cinza, hist)\n",
    "    features_tomate.append(features)\n",
    "    \n",
    "features_limao = []\n",
    "for name in im_limao:\n",
    "    im = io.imread(name)\n",
    "    cinza = pre_processing(im)\n",
    "    hist = histogram(cinza, source_range='dtype')[0]\n",
    "    features = histogram_features(cinza, hist)\n",
    "    features_limao.append(features)\n",
    "    \n",
    "features_melancia = []\n",
    "for name in im_melancia:\n",
    "    im = io.imread(name)\n",
    "    cinza = pre_processing(im)\n",
    "    hist = histogram(cinza, source_range='dtype')[0]\n",
    "    features = histogram_features(cinza, hist)\n",
    "    features_melancia.append(features)\n",
    "    \n",
    "features_tangerina = []\n",
    "for name in im_tangerina:\n",
    "    im = io.imread(name)\n",
    "    cinza = pre_processing(im)\n",
    "    hist = histogram(cinza, source_range='dtype')[0]\n",
    "    features = histogram_features(cinza, hist)\n",
    "    features_tangerina.append(features)"
   ]
  },
  {
   "cell_type": "markdown",
   "metadata": {},
   "source": [
    "### Transformando de lista para numpy array"
   ]
  },
  {
   "cell_type": "code",
   "execution_count": null,
   "metadata": {},
   "outputs": [],
   "source": [
    "features_tomate = np.asarray(features_tomate)\n",
    "features_limao = np.asarray(features_limao)\n",
    "features_melancia = np.asarray(features_melancia)\n",
    "features_tangerina = np.asarray(features_tangerina)"
   ]
  },
  {
   "cell_type": "markdown",
   "metadata": {},
   "source": [
    "### Plotando em função das características"
   ]
  },
  {
   "cell_type": "code",
   "execution_count": null,
   "metadata": {},
   "outputs": [],
   "source": [
    "f1 = 0\n",
    "f2 = 0\n",
    "plt.plot(features_tomate[:,f1],features_tomate[:,f2],'.',c='g')\n",
    "plt.plot(features_limao[:,f1],features_limao[:,f2],'.',c='y')\n",
    "plt.plot(features_melancia[:,f1],features_melancia[:,f2],'.',c='r')\n",
    "plt.plot(features_tangerina[:,f1],features_tangerina[:,f2],'.',c='b')"
   ]
  },
  {
   "cell_type": "code",
   "execution_count": null,
   "metadata": {},
   "outputs": [],
   "source": [
    "fig,ax = plt.subplots(2,2,figsize=(10,7))\n",
    "ax[0,0].imshow(pre_processing(io.imread(im_tomate[0])),cmap='gray')\n",
    "ax[0,1].imshow(pre_processing(io.imread(im_limao[0])),cmap='gray')\n",
    "ax[1,0].imshow(pre_processing(io.imread(im_melancia[0])),cmap='gray')\n",
    "ax[1,1].imshow(pre_processing(io.imread(im_tangerina[0])),cmap='gray')\n",
    "\n",
    "plt.show()"
   ]
  },
  {
   "cell_type": "code",
   "execution_count": null,
   "metadata": {},
   "outputs": [],
   "source": []
  },
  {
   "cell_type": "code",
   "execution_count": null,
   "metadata": {},
   "outputs": [],
   "source": []
  }
 ],
 "metadata": {
  "kernelspec": {
   "display_name": "Python 3",
   "language": "python",
   "name": "python3"
  },
  "language_info": {
   "codemirror_mode": {
    "name": "ipython",
    "version": 3
   },
   "file_extension": ".py",
   "mimetype": "text/x-python",
   "name": "python",
   "nbconvert_exporter": "python",
   "pygments_lexer": "ipython3",
   "version": "3.8.3"
  }
 },
 "nbformat": 4,
 "nbformat_minor": 4
}
