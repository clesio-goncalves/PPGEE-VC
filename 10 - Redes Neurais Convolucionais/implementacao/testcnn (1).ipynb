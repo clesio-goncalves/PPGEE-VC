{
 "cells": [
  {
   "cell_type": "code",
   "execution_count": 1,
   "metadata": {
    "_cell_guid": "b1076dfc-b9ad-4769-8c92-a6c4dae69d19",
    "_uuid": "8f2839f25d086af736a60e9eeb907d3b93b6e0e5",
    "execution": {
     "iopub.execute_input": "2021-07-04T22:36:43.633966Z",
     "iopub.status.busy": "2021-07-04T22:36:43.633650Z",
     "iopub.status.idle": "2021-07-04T22:36:52.486088Z",
     "shell.execute_reply": "2021-07-04T22:36:52.485320Z",
     "shell.execute_reply.started": "2021-07-04T22:36:43.633890Z"
    }
   },
   "outputs": [],
   "source": [
    "import os\n",
    "from keras.applications.resnet50 import ResNet50\n",
    "from keras.applications.vgg16 import VGG16\n",
    "from keras.applications.vgg19 import VGG19\n",
    "from keras.applications.inception_v3 import InceptionV3\n",
    "from keras.applications.xception import Xception\n",
    "from keras.applications.inception_resnet_v2 import InceptionResNetV2\n",
    "from keras.applications import NASNetLarge\n",
    "from keras.applications.resnet_v2 import ResNet152V2\n",
    "\n",
    "from keras.preprocessing.image import ImageDataGenerator\n",
    "from keras.models import Model\n",
    "\n",
    "from sklearn.model_selection import train_test_split\n",
    "from sklearn.ensemble import RandomForestClassifier\n",
    "from xgboost import XGBClassifier\n",
    "from sklearn import svm\n",
    "from sklearn.model_selection import cross_val_score\n",
    "from sklearn.metrics import accuracy_score, precision_score, recall_score, f1_score, cohen_kappa_score, confusion_matrix\n",
    "\n",
    "import pandas as pd\n",
    "import numpy as np\n",
    "from glob import glob\n",
    "\n",
    "import warnings  \n",
    "warnings.filterwarnings('ignore')"
   ]
  },
  {
   "cell_type": "code",
   "execution_count": 2,
   "metadata": {
    "execution": {
     "iopub.execute_input": "2021-07-04T22:36:52.490528Z",
     "iopub.status.busy": "2021-07-04T22:36:52.490266Z",
     "iopub.status.idle": "2021-07-04T22:36:52.496640Z",
     "shell.execute_reply": "2021-07-04T22:36:52.495900Z",
     "shell.execute_reply.started": "2021-07-04T22:36:52.490501Z"
    }
   },
   "outputs": [],
   "source": [
    "entrada = '../input/leishmaniose-lamina/'\n",
    "out = \"./\"\n",
    "batch_size = 8\n",
    "base_entrada = glob(entrada)[0] # Pega a string do nome da pasta"
   ]
  },
  {
   "cell_type": "code",
   "execution_count": 3,
   "metadata": {
    "execution": {
     "iopub.execute_input": "2021-07-04T22:36:52.499182Z",
     "iopub.status.busy": "2021-07-04T22:36:52.498824Z",
     "iopub.status.idle": "2021-07-04T22:37:32.116981Z",
     "shell.execute_reply": "2021-07-04T22:37:32.115400Z",
     "shell.execute_reply.started": "2021-07-04T22:36:52.499145Z"
    }
   },
   "outputs": [
    {
     "name": "stdout",
     "output_type": "stream",
     "text": [
      "Downloading data from https://storage.googleapis.com/tensorflow/keras-applications/inception_v3/inception_v3_weights_tf_dim_ordering_tf_kernels.h5\n",
      "96116736/96112376 [==============================] - 0s 0us/step\n",
      "Downloading data from https://storage.googleapis.com/tensorflow/keras-applications/xception/xception_weights_tf_dim_ordering_tf_kernels.h5\n",
      "91889664/91884032 [==============================] - 1s 0us/step\n",
      "Downloading data from https://storage.googleapis.com/tensorflow/keras-applications/inception_resnet_v2/inception_resnet_v2_weights_tf_dim_ordering_tf_kernels.h5\n",
      "225214464/225209952 [==============================] - 2s 0us/step\n",
      "Downloading data from https://storage.googleapis.com/tensorflow/keras-applications/nasnet/NASNet-large.h5\n",
      "359751680/359748576 [==============================] - 4s 0us/step\n",
      "Downloading data from https://storage.googleapis.com/tensorflow/keras-applications/resnet/resnet152v2_weights_tf_dim_ordering_tf_kernels.h5\n",
      "242753536/242745792 [==============================] - 2s 0us/step\n"
     ]
    }
   ],
   "source": [
    "models = [InceptionV3(weights='imagenet',include_top=True), \n",
    "          Xception(weights='imagenet',include_top=True), \n",
    "          InceptionResNetV2(weights='imagenet',include_top=True),\n",
    "          NASNetLarge(weights='imagenet',include_top=True), \n",
    "          ResNet152V2(weights='imagenet',include_top=True)]"
   ]
  },
  {
   "cell_type": "code",
   "execution_count": 4,
   "metadata": {
    "execution": {
     "iopub.execute_input": "2021-07-04T22:37:32.119638Z",
     "iopub.status.busy": "2021-07-04T22:37:32.119122Z",
     "iopub.status.idle": "2021-07-04T22:38:18.407147Z",
     "shell.execute_reply": "2021-07-04T22:38:18.406228Z",
     "shell.execute_reply.started": "2021-07-04T22:37:32.119597Z"
    }
   },
   "outputs": [
    {
     "name": "stdout",
     "output_type": "stream",
     "text": [
      "Found 151 images belonging to 2 classes.\n",
      "Executando model inception_v3\n",
      "Found 151 images belonging to 2 classes.\n",
      "Executando model xception\n",
      "Found 151 images belonging to 2 classes.\n",
      "Executando model inception_resnet_v2\n",
      "Found 151 images belonging to 2 classes.\n",
      "Executando model NASNet\n",
      "Found 151 images belonging to 2 classes.\n",
      "Executando model resnet152v2\n",
      "{'Negativo': 0, 'Positivo': 1}\n"
     ]
    }
   ],
   "source": [
    "data = ImageDataGenerator(rescale = 1./255) # reescala dos dados\n",
    "# , rotation_range = 7, horizontal_flip = True, shear_range = 0.2, height_shift_range = 0.07, zoom_range = 0.2\n",
    "for model in models:\n",
    "    data_gen = data.flow_from_directory(base_entrada, target_size=(model.input.shape[1], model.input.shape[2]), batch_size=batch_size)\n",
    "\n",
    "    print('Executando model {}'.format(model.name))\n",
    "    model.layers.pop()\n",
    "    name_model = model.name # nome do modelo\n",
    "    model = Model(inputs=model.input,outputs=model.layers[-1].output)\n",
    "    features = model.predict(data_gen)\n",
    "\n",
    "    save = np.concatenate([features, np.reshape(data_gen.labels,(-1,1))], axis=1)\n",
    "    np.savetxt('leishmaniose_{}.csv'.format(name_model), save, delimiter=',')\n",
    "\n",
    "print(data_gen.class_indices)"
   ]
  },
  {
   "cell_type": "code",
   "execution_count": 5,
   "metadata": {
    "execution": {
     "iopub.execute_input": "2021-07-04T22:38:18.414699Z",
     "iopub.status.busy": "2021-07-04T22:38:18.412680Z",
     "iopub.status.idle": "2021-07-04T22:38:18.421095Z",
     "shell.execute_reply": "2021-07-04T22:38:18.420219Z",
     "shell.execute_reply.started": "2021-07-04T22:38:18.414656Z"
    }
   },
   "outputs": [],
   "source": [
    "base_saida = glob(os.path.join(out, \"*.csv\"))"
   ]
  },
  {
   "cell_type": "code",
   "execution_count": 6,
   "metadata": {
    "execution": {
     "iopub.execute_input": "2021-07-04T22:38:18.427439Z",
     "iopub.status.busy": "2021-07-04T22:38:18.425170Z",
     "iopub.status.idle": "2021-07-04T22:38:18.452580Z",
     "shell.execute_reply": "2021-07-04T22:38:18.451797Z",
     "shell.execute_reply.started": "2021-07-04T22:38:18.427401Z"
    }
   },
   "outputs": [
    {
     "data": {
      "image/jpeg": "[encoded data removed]",
      "text/plain": [
       "<IPython.core.display.Image object>"
      ]
     },
     "execution_count": 6,
     "metadata": {},
     "output_type": "execute_result"
    }
   ],
   "source": [
    "from IPython.display import Image\n",
    "Image('../input/confusao/ConfusionMatrix.jpg')"
   ]
  },
  {
   "cell_type": "code",
   "execution_count": 7,
   "metadata": {
    "execution": {
     "iopub.execute_input": "2021-07-04T22:38:18.458152Z",
     "iopub.status.busy": "2021-07-04T22:38:18.456093Z",
     "iopub.status.idle": "2021-07-04T22:38:18.466049Z",
     "shell.execute_reply": "2021-07-04T22:38:18.465018Z",
     "shell.execute_reply.started": "2021-07-04T22:38:18.458114Z"
    }
   },
   "outputs": [],
   "source": [
    "# Calculo de métricas\n",
    "def calculo_metricas(y_true, y_pred):    \n",
    "    \n",
    "    # tn, fp, fn, tp = confusion_matrix(y_true, y_pred).ravel()\n",
    "    \n",
    "    # print(confusion_matrix(y_true, y_pred))\n",
    "    acuracia = accuracy_score(y_true, y_pred)\n",
    "    precision = precision_score(y_true, y_pred)\n",
    "    recall = recall_score(y_true, y_pred)\n",
    "    f1score = f1_score(y_true, y_pred)\n",
    "    kappa = cohen_kappa_score(y_true, y_pred)\n",
    "    \n",
    "    metricas = list(np.round([acuracia, precision, recall, f1score, kappa], 4))\n",
    "    \n",
    "    return metricas"
   ]
  },
  {
   "cell_type": "code",
   "execution_count": 8,
   "metadata": {
    "execution": {
     "iopub.execute_input": "2021-07-04T22:38:18.472268Z",
     "iopub.status.busy": "2021-07-04T22:38:18.469998Z",
     "iopub.status.idle": "2021-07-04T22:38:18.481502Z",
     "shell.execute_reply": "2021-07-04T22:38:18.480483Z",
     "shell.execute_reply.started": "2021-07-04T22:38:18.472231Z"
    }
   },
   "outputs": [],
   "source": [
    "# Balanceamento X_treino e Y_treino\n",
    "def balanceamento_treino(X_treino, Y_treino):\n",
    "    \n",
    "    # Join\n",
    "    dataset_treino = X_treino.join(Y_treino)\n",
    "\n",
    "    # Classe 0 e 1\n",
    "    classe0 = dataset_treino[dataset_treino.iloc[:,-1] == 0].count()[0]\n",
    "    classe1 = dataset_treino[dataset_treino.iloc[:,-1] == 1].count()[0]\n",
    "\n",
    "    # Valores0\n",
    "    valores0 = dataset_treino[dataset_treino.iloc[:,-1] == 0].head(classe1 - classe0)\n",
    "\n",
    "    # Dataset replicado\n",
    "    dataset_treino_replicado = dataset_treino.append(valores0, ignore_index=True)\n",
    "\n",
    "    # Definindo X_treino e X_teste\n",
    "    X_treino = dataset_treino_replicado.iloc[:,0:-1]\n",
    "    Y_treino = dataset_treino_replicado.iloc[:,-1]\n",
    "    \n",
    "    return X_treino, Y_treino"
   ]
  },
  {
   "cell_type": "code",
   "execution_count": 9,
   "metadata": {
    "execution": {
     "iopub.execute_input": "2021-07-04T22:38:18.487898Z",
     "iopub.status.busy": "2021-07-04T22:38:18.485548Z",
     "iopub.status.idle": "2021-07-04T22:38:18.497432Z",
     "shell.execute_reply": "2021-07-04T22:38:18.496688Z",
     "shell.execute_reply.started": "2021-07-04T22:38:18.487860Z"
    }
   },
   "outputs": [],
   "source": [
    "# Treinando com o Classificador Random Forest\n",
    "def classificador_randomForest(X_treino, Y_treino, X_teste, Y_teste):\n",
    "    \n",
    "    print(\"--------------- Random Forest ----------------\")\n",
    "    classificador_v1 = RandomForestClassifier(random_state = 1, n_jobs = -1, n_estimators = 1000)\n",
    "    classificador_v1.fit(X_treino, Y_treino)\n",
    "    \n",
    "#     # Verificando os dados de treino\n",
    "#     predict_treino_v1 = classificador_v1.predict(X_treino)\n",
    "#     print(\"Treino: \", calculo_metricas(Y_treino, predict_treino_v1))\n",
    "    \n",
    "    # Verificando nos dados de teste\n",
    "    predict_teste_v1 = classificador_v1.predict(X_teste)\n",
    "    print(\"Teste: \", calculo_metricas(Y_teste, predict_teste_v1))\n",
    "    \n",
    "    # Cross-Validation\n",
    "    cross_validation = cross_val_score(classificador_v1, X, Y, scoring='accuracy', cv=10, n_jobs = -1)\n",
    "    print(\"Cross-validation: \", list(np.round(cross_validation, 4)))\n",
    "    print(\"Média CV: {0:.4f}\".format(cross_validation.mean()))\n",
    "    print(\"STD CV: {0:.4f}\".format(cross_validation.std()))"
   ]
  },
  {
   "cell_type": "code",
   "execution_count": 10,
   "metadata": {
    "execution": {
     "iopub.execute_input": "2021-07-04T22:38:18.502945Z",
     "iopub.status.busy": "2021-07-04T22:38:18.501117Z",
     "iopub.status.idle": "2021-07-04T22:38:18.517880Z",
     "shell.execute_reply": "2021-07-04T22:38:18.517105Z",
     "shell.execute_reply.started": "2021-07-04T22:38:18.502910Z"
    }
   },
   "outputs": [],
   "source": [
    "# Treinando com o SVM\n",
    "def classificador_svm(X_treino, Y_treino, X_teste, Y_teste):\n",
    "    \n",
    "    print(\"\\n------------------ SVM ---------------------\")\n",
    "    # Treinando com o Classificador SVM\n",
    "    classificador_v2 = svm.SVC(random_state = 1)\n",
    "    classificador_v2.fit(X_treino, Y_treino)\n",
    "    \n",
    "    # Verificando os dados de treino\n",
    "#     predict_treino_v2 = classificador_v2.predict(X_treino)\n",
    "#     print(\"Treino: \", calculo_metricas(Y_treino, predict_treino_v2))\n",
    "    \n",
    "    # Verificando nos dados de teste\n",
    "    predict_teste_v2 = classificador_v2.predict(X_teste)\n",
    "    print(\"Teste: \", calculo_metricas(Y_teste, predict_teste_v2))\n",
    "    \n",
    "    # Cross-Validation\n",
    "    cross_validation = cross_val_score(classificador_v2, X, Y, scoring='accuracy', cv=10, n_jobs = -1)\n",
    "    print(\"Cross-validation: \", list(np.round(cross_validation, 4)))\n",
    "    print(\"Média CV: {0:.4f}\".format(cross_validation.mean()))\n",
    "    print(\"STD CV: {0:.4f}\".format(cross_validation.std()))"
   ]
  },
  {
   "cell_type": "code",
   "execution_count": 11,
   "metadata": {
    "execution": {
     "iopub.execute_input": "2021-07-04T22:38:18.525782Z",
     "iopub.status.busy": "2021-07-04T22:38:18.525409Z",
     "iopub.status.idle": "2021-07-04T22:38:18.535065Z",
     "shell.execute_reply": "2021-07-04T22:38:18.534380Z",
     "shell.execute_reply.started": "2021-07-04T22:38:18.525749Z"
    }
   },
   "outputs": [],
   "source": [
    "# Treinando com o XGBooster\n",
    "def classificador_xgbooster(X_treino, Y_treino, X_teste, Y_teste):\n",
    "    \n",
    "    print(\"\\n--------------- XGBooster ------------------\")\n",
    "    # Treinando com o Classificador XGBClassifier\n",
    "    classificador_v3 = XGBClassifier(random_state = 1, n_jobs = -1, n_estimators = 1000, eval_metric='mlogloss')\n",
    "    classificador_v3.fit(X_treino, Y_treino) \n",
    "    \n",
    "    # Verificando os dados de treino\n",
    "#     predict_treino_v3 = classificador_v3.predict(X_treino)\n",
    "#     print(\"Treino: \", calculo_metricas(Y_treino, predict_treino_v3))\n",
    "    \n",
    "    # Verificando nos dados de teste\n",
    "    predict_teste_v3 = classificador_v3.predict(X_teste)\n",
    "    print(\"Teste: \", calculo_metricas(Y_teste, predict_teste_v3))\n",
    "    \n",
    "    # Cross-Validation\n",
    "    cross_validation = cross_val_score(classificador_v3, X, Y, scoring='accuracy', cv=10, n_jobs = -1)\n",
    "    print(\"Cross-validation: \", list(np.round(cross_validation, 4)))\n",
    "    print(\"Média CV: {0:.4f}\".format(cross_validation.mean()))\n",
    "    print(\"STD CV: {0:.4f}\".format(cross_validation.std()))"
   ]
  },
  {
   "cell_type": "code",
   "execution_count": 12,
   "metadata": {
    "execution": {
     "iopub.execute_input": "2021-07-04T22:38:18.538451Z",
     "iopub.status.busy": "2021-07-04T22:38:18.538165Z",
     "iopub.status.idle": "2021-07-04T22:46:41.337107Z",
     "shell.execute_reply": "2021-07-04T22:46:41.336229Z",
     "shell.execute_reply.started": "2021-07-04T22:38:18.538427Z"
    }
   },
   "outputs": [
    {
     "name": "stdout",
     "output_type": "stream",
     "text": [
      "Métricas Y_teste: [Acurácia, Precision, Recall, F1-score, Kappa]\n",
      "\n",
      "\n",
      "Base:  ./leishmaniose_xception.csv\n",
      "--------------- Random Forest ----------------\n",
      "Teste:  [0.5161, 0.5294, 0.5625, 0.5455, 0.0292]\n",
      "Cross-validation:  [0.4375, 0.4, 0.4, 0.5333, 0.4667, 0.4667, 0.5333, 0.5333, 0.5333, 0.4667]\n",
      "Média CV: 0.4771\n",
      "STD CV: 0.0514\n",
      "\n",
      "------------------ SVM ---------------------\n",
      "Teste:  [0.4194, 0.4615, 0.75, 0.5714, -0.1872]\n",
      "Cross-validation:  [0.4375, 0.4667, 0.4, 0.6, 0.6, 0.5333, 0.6, 0.4, 0.4, 0.4667]\n",
      "Média CV: 0.4904\n",
      "STD CV: 0.0814\n",
      "\n",
      "--------------- XGBooster ------------------\n",
      "Teste:  [0.5161, 0.5294, 0.5625, 0.5455, 0.0292]\n",
      "Cross-validation:  [0.3125, 0.2667, 0.4667, 0.6, 0.4, 0.4667, 0.6667, 0.5333, 0.4, 0.2667]\n",
      "Média CV: 0.4379\n",
      "STD CV: 0.1291\n",
      "\n",
      "\n",
      "\n",
      "Base:  ./leishmaniose_inception_resnet_v2.csv\n",
      "--------------- Random Forest ----------------\n",
      "Teste:  [0.5806, 0.6154, 0.5, 0.5517, 0.1656]\n",
      "Cross-validation:  [0.4375, 0.6, 0.4, 0.4, 0.5333, 0.3333, 0.4667, 0.3333, 0.6667, 0.4667]\n",
      "Média CV: 0.4637\n",
      "STD CV: 0.1036\n",
      "\n",
      "------------------ SVM ---------------------\n",
      "Teste:  [0.4194, 0.4545, 0.625, 0.5263, -0.1772]\n",
      "Cross-validation:  [0.25, 0.5333, 0.6, 0.4667, 0.6667, 0.6, 0.5333, 0.6667, 0.2667, 0.6]\n",
      "Média CV: 0.5183\n",
      "STD CV: 0.1423\n",
      "\n",
      "--------------- XGBooster ------------------\n",
      "Teste:  [0.5484, 0.5714, 0.5, 0.5333, 0.0996]\n",
      "Cross-validation:  [0.375, 0.7333, 0.5333, 0.5333, 0.4, 0.2667, 0.4667, 0.3333, 0.5333, 0.4667]\n",
      "Média CV: 0.4642\n",
      "STD CV: 0.1245\n",
      "\n",
      "\n",
      "\n",
      "Base:  ./leishmaniose_resnet152v2.csv\n",
      "--------------- Random Forest ----------------\n",
      "Teste:  [0.5484, 0.5556, 0.625, 0.5882, 0.0921]\n",
      "Cross-validation:  [0.25, 0.4667, 0.4667, 0.6, 0.4, 0.6667, 0.4, 0.7333, 0.5333, 0.3333]\n",
      "Média CV: 0.4850\n",
      "STD CV: 0.1427\n",
      "\n",
      "------------------ SVM ---------------------\n",
      "Teste:  [0.5161, 0.5217, 0.75, 0.6154, 0.0169]\n",
      "Cross-validation:  [0.4375, 0.4, 0.6, 0.5333, 0.5333, 0.5333, 0.4, 0.4667, 0.4667, 0.4]\n",
      "Média CV: 0.4771\n",
      "STD CV: 0.0665\n",
      "\n",
      "--------------- XGBooster ------------------\n",
      "Teste:  [0.4839, 0.5, 0.5625, 0.5294, -0.0377]\n",
      "Cross-validation:  [0.4375, 0.4, 0.6667, 0.4667, 0.4667, 0.4, 0.4, 0.5333, 0.5333, 0.4667]\n",
      "Média CV: 0.4771\n",
      "STD CV: 0.0787\n",
      "\n",
      "\n",
      "\n",
      "Base:  ./leishmaniose_NASNet.csv\n",
      "--------------- Random Forest ----------------\n",
      "Teste:  [0.6452, 0.6316, 0.75, 0.6857, 0.2851]\n",
      "Cross-validation:  [0.5, 0.4667, 0.4, 0.4667, 0.3333, 0.2667, 0.3333, 0.4, 0.7333, 0.4667]\n",
      "Média CV: 0.4367\n",
      "STD CV: 0.1215\n",
      "\n",
      "------------------ SVM ---------------------\n",
      "Teste:  [0.4516, 0.4286, 0.1875, 0.2609, -0.0777]\n",
      "Cross-validation:  [0.375, 0.3333, 0.4667, 0.4, 0.4, 0.5333, 0.5333, 0.5333, 0.4667, 0.5333]\n",
      "Média CV: 0.4575\n",
      "STD CV: 0.0721\n",
      "\n",
      "--------------- XGBooster ------------------\n",
      "Teste:  [0.6129, 0.625, 0.625, 0.625, 0.225]\n",
      "Cross-validation:  [0.5, 0.4667, 0.4, 0.5333, 0.2667, 0.4, 0.4, 0.5333, 0.6, 0.6667]\n",
      "Média CV: 0.4767\n",
      "STD CV: 0.1096\n",
      "\n",
      "\n",
      "\n",
      "Base:  ./leishmaniose_inception_v3.csv\n",
      "--------------- Random Forest ----------------\n",
      "Teste:  [0.5806, 0.5882, 0.625, 0.6061, 0.1587]\n",
      "Cross-validation:  [0.625, 0.4, 0.4667, 0.4667, 0.6, 0.6, 0.6, 0.6667, 0.2667, 0.6667]\n",
      "Média CV: 0.5358\n",
      "STD CV: 0.1245\n",
      "\n",
      "------------------ SVM ---------------------\n",
      "Teste:  [0.3548, 0.4231, 0.6875, 0.5238, -0.3191]\n",
      "Cross-validation:  [0.5, 0.2667, 0.4, 0.2667, 0.3333, 0.3333, 0.2667, 0.3333, 0.5333, 0.3333]\n",
      "Média CV: 0.3567\n",
      "STD CV: 0.0895\n",
      "\n",
      "--------------- XGBooster ------------------\n",
      "Teste:  [0.3871, 0.4211, 0.5, 0.4571, -0.2348]\n",
      "Cross-validation:  [0.5625, 0.3333, 0.4667, 0.6, 0.4667, 0.4, 0.7333, 0.4, 0.2667, 0.4667]\n",
      "Média CV: 0.4696\n",
      "STD CV: 0.1283\n",
      "\n",
      "\n",
      "\n"
     ]
    }
   ],
   "source": [
    "# Classificação Random Forest\n",
    "print(\"Métricas Y_teste: [Acurácia, Precision, Recall, F1-score, Kappa]\\n\\n\")\n",
    "\n",
    "for base in base_saida:\n",
    "    print(\"Base: \", base)\n",
    "    \n",
    "    # Leitura da base\n",
    "    dataset = pd.read_csv(base, header=None)\n",
    "    \n",
    "    # Divisão entre treino e teste\n",
    "    X = dataset.iloc[:, 0:-1]\n",
    "    Y = dataset.iloc[:,-1]\n",
    "    X_treino, X_teste, Y_treino, Y_teste = train_test_split(X, Y, test_size = 0.2, random_state = 42, stratify=Y)\n",
    "    \n",
    "    # Balancemanento das classes no treinamento (replicar os dados da classe minoritária no treinamento)\n",
    "    # X_treino, Y_treino = balanceamento_treino(X_treino, Y_treino)\n",
    "    \n",
    "    # Random Forest\n",
    "    classificador_randomForest(X_treino, Y_treino, X_teste, Y_teste)\n",
    "    \n",
    "    # SVM\n",
    "    classificador_svm(X_treino, Y_treino, X_teste, Y_teste)\n",
    "    \n",
    "    # XGBooster\n",
    "    classificador_xgbooster(X_treino, Y_treino, X_teste, Y_teste)\n",
    "    \n",
    "    print(\"\\n\\n\")"
   ]
  },
  {
   "cell_type": "code",
   "execution_count": 13,
   "metadata": {
    "execution": {
     "iopub.execute_input": "2021-07-04T22:46:41.341352Z",
     "iopub.status.busy": "2021-07-04T22:46:41.341014Z",
     "iopub.status.idle": "2021-07-04T22:46:41.355609Z",
     "shell.execute_reply": "2021-07-04T22:46:41.353216Z",
     "shell.execute_reply.started": "2021-07-04T22:46:41.341321Z"
    }
   },
   "outputs": [
    {
     "data": {
      "text/plain": [
       "1.0    63\n",
       "0.0    57\n",
       "Name: 1000, dtype: int64"
      ]
     },
     "execution_count": 13,
     "metadata": {},
     "output_type": "execute_result"
    }
   ],
   "source": [
    "Y_treino.value_counts()"
   ]
  },
  {
   "cell_type": "code",
   "execution_count": 14,
   "metadata": {
    "execution": {
     "iopub.execute_input": "2021-07-04T22:46:41.358004Z",
     "iopub.status.busy": "2021-07-04T22:46:41.357615Z",
     "iopub.status.idle": "2021-07-04T22:46:41.366726Z",
     "shell.execute_reply": "2021-07-04T22:46:41.365474Z",
     "shell.execute_reply.started": "2021-07-04T22:46:41.357965Z"
    }
   },
   "outputs": [
    {
     "data": {
      "text/plain": [
       "1.0    16\n",
       "0.0    15\n",
       "Name: 1000, dtype: int64"
      ]
     },
     "execution_count": 14,
     "metadata": {},
     "output_type": "execute_result"
    }
   ],
   "source": [
    "Y_teste.value_counts()"
   ]
  }
 ],
 "metadata": {
  "kernelspec": {
   "display_name": "Python 3",
   "language": "python",
   "name": "python3"
  },
  "language_info": {
   "codemirror_mode": {
    "name": "ipython",
    "version": 3
   },
   "file_extension": ".py",
   "mimetype": "text/x-python",
   "name": "python",
   "nbconvert_exporter": "python",
   "pygments_lexer": "ipython3",
   "version": "3.8.3"
  }
 },
 "nbformat": 4,
 "nbformat_minor": 4
}
